{
 "cells": [
  {
   "cell_type": "code",
   "execution_count": 400,
   "metadata": {},
   "outputs": [],
   "source": [
    "import os\n",
    "import subprocess\n",
    "\n",
    "os.chdir(\n",
    "    subprocess.check_output([\"git\", \"rev-parse\", \"--show-toplevel\"]).strip().decode(\"utf-8\")\n",
    ")\n",
    "from tqdm import tqdm\n",
    "from pathlib import Path\n",
    "import pandas as pd\n",
    "\n",
    "from mistralai.client import MistralClient\n",
    "from mistralai.models.chat_completion import ChatMessage"
   ]
  },
  {
   "cell_type": "code",
   "execution_count": 13,
   "metadata": {},
   "outputs": [],
   "source": [
    "SOURCE_FOLDER = Path(\"climateGPT/data/sft_dataset/open_mixtral_8x7b\")\n",
    "CLEAN_FOLDER = SOURCE_FOLDER / \"clean\"\n",
    "CLEAN_FOLDER.mkdir(exist_ok=True, parents=True)\n",
    "TEMP_FOLDER = SOURCE_FOLDER / \"temp\"\n",
    "TEMP_FOLDER.mkdir(exist_ok=True, parents=True)"
   ]
  },
  {
   "cell_type": "code",
   "execution_count": 87,
   "metadata": {},
   "outputs": [],
   "source": [
    "# Load in txt format the input output from mixtral\n",
    "def load_clean_and_raw_files():\n",
    "    clean_files = [file.name for file in CLEAN_FOLDER.glob(\"*.json\")]\n",
    "    all_files = [file.name for file in SOURCE_FOLDER.glob(\"*.json\") if file.name not in clean_files]\n",
    "    print(f\"Number of files to correct: {len(all_files)}\")\n",
    "    return all_files"
   ]
  },
  {
   "cell_type": "code",
   "execution_count": 80,
   "metadata": {},
   "outputs": [],
   "source": [
    "## File corrections"
   ]
  },
  {
   "cell_type": "code",
   "execution_count": 311,
   "metadata": {},
   "outputs": [],
   "source": [
    "def identity(x: str) -> str:\n",
    "    return x\n",
    "def delete_unwanted_newlines_and_comma(x: str) -> str:\n",
    "    return (\n",
    "        x\n",
    "        .replace('{\\n', '{')\n",
    "        .replace('\\n}', '}')\n",
    "        .replace('\\n\"answer\"', ' \"answer\"')\n",
    "        .replace(\"},\", \"}\")\n",
    "        .replace(\"}\\\\\", \"}\")\n",
    "        )\n",
    "def remove_duplicate_newline(x: str) -> str:\n",
    "    return x.replace(\"\\n\\n\", \"\\n\")\n",
    "def remove_newline_comma_newline(x: str) -> str:\n",
    "    return x.replace(\"\\n,\\n\", \"\\n\")\n",
    "def add_last_brackets(x: str) -> str:\n",
    "    if x[-1] == '\"':\n",
    "        return x + \"}\"\n",
    "    else: \n",
    "        return x\n",
    "def add_comma_before_answer_key(x: str) -> str:\n",
    "    return x.replace('\\n\"answer\"', ', \"answer\"').replace('\" \"answer\"', '\", \"answer\"')\n",
    "def remove_open_end_bracket(x: str) -> str:\n",
    "    if x[-2:] in [\"\\n{\", \"{\\n\"]:\n",
    "        return x[:-2]\n",
    "    else:\n",
    "        return x\n",
    "def add_missing_newline(x: str) -> str:\n",
    "    return x.replace(\"}{\", \"}\\n{\")\n",
    "def correct_end_brackets(x: str) -> str:\n",
    "    if x[-1] == '\"':\n",
    "        return x + '}'\n",
    "    else:\n",
    "        return x.replace('\"}\"}', '\"}')\n",
    "def remove_unwanted_characters(x: str) -> str:\n",
    "    return x.replace(\"</s>\", \"\")"
   ]
  },
  {
   "cell_type": "code",
   "execution_count": 312,
   "metadata": {},
   "outputs": [],
   "source": [
    "## Testing format\n",
    "def is_ndjson_format_correct(x: str) -> bool:\n",
    "    with open(TEMP_FOLDER / \"tmp.ndjson\", \"w\") as f:\n",
    "        f.write(x)\n",
    "    try:\n",
    "        df = pd.read_json(TEMP_FOLDER / \"tmp.ndjson\", lines=True)\n",
    "        return True\n",
    "    except:\n",
    "        return False"
   ]
  },
  {
   "cell_type": "code",
   "execution_count": 402,
   "metadata": {},
   "outputs": [],
   "source": [
    "def clean_and_save_ndjson():\n",
    "    all_files = load_clean_and_raw_files()\n",
    "    count_correct = 0\n",
    "    for file in all_files:\n",
    "        with open(SOURCE_FOLDER / file, \"r\") as f:\n",
    "            tmp = f.read()\n",
    "            if len(tmp) < 200:\n",
    "                os.remove(SOURCE_FOLDER / file)\n",
    "            else:\n",
    "                for func in [\n",
    "                    identity, \n",
    "                    remove_open_end_bracket,\n",
    "                    delete_unwanted_newlines_and_comma, \n",
    "                    remove_duplicate_newline, \n",
    "                    remove_newline_comma_newline, \n",
    "                    add_last_brackets, \n",
    "                    add_comma_before_answer_key, \n",
    "                    add_missing_newline,\n",
    "                    correct_end_brackets,\n",
    "                    remove_unwanted_characters,\n",
    "                    ]:\n",
    "                    tmp = func(tmp)\n",
    "                    \n",
    "                    if is_ndjson_format_correct(tmp):\n",
    "                        with open(CLEAN_FOLDER / file, \"w\") as f:\n",
    "                            f.write(tmp)\n",
    "                        count_correct += 1\n",
    "                        break\n",
    "    print(f\"Number of corrected files: {count_correct} representing {count_correct / len(all_files): .2%} of the total\")"
   ]
  },
  {
   "cell_type": "code",
   "execution_count": null,
   "metadata": {},
   "outputs": [],
   "source": [
    "clean_and_save_ndjson()"
   ]
  },
  {
   "cell_type": "code",
   "execution_count": 387,
   "metadata": {},
   "outputs": [],
   "source": [
    "## For remaining files, call Mistral large to correct them"
   ]
  },
  {
   "cell_type": "code",
   "execution_count": 396,
   "metadata": {},
   "outputs": [],
   "source": [
    "prompt = \"\"\"Can you correctly reformat the following file in NDJSON format?\n",
    "The expected format needs to be (for a two lines example):\n",
    "{{“instruction\": \"blablabla\", \"answer\": \"blablabla\"}}\\n{{“instruction\": \"blablabla\", \"answer\": \"blablabla\"}}.\n",
    "If some answers are incomplete, just remove the line.\n",
    "Only output the NDJSON file.\n",
    "\n",
    "The file:\n",
    "{file}\n",
    "\"\"\""
   ]
  },
  {
   "cell_type": "code",
   "execution_count": 397,
   "metadata": {},
   "outputs": [
    {
     "name": "stdout",
     "output_type": "stream",
     "text": [
      "Number of files to correct: 26\n"
     ]
    }
   ],
   "source": [
    "all_files = load_clean_and_raw_files()"
   ]
  },
  {
   "cell_type": "code",
   "execution_count": 401,
   "metadata": {},
   "outputs": [
    {
     "name": "stderr",
     "output_type": "stream",
     "text": [
      "  0%|          | 0/26 [00:00<?, ?it/s]0.00s - Debugger warning: It seems that frozen modules are being used, which may\n",
      "0.00s - make the debugger miss breakpoints. Please pass -Xfrozen_modules=off\n",
      "0.00s - to python to disable frozen modules.\n",
      "0.00s - Note: Debugging will proceed. Set PYDEVD_DISABLE_FILE_VALIDATION=1 to disable this validation.\n",
      "100%|██████████| 26/26 [04:04<00:00,  9.39s/it]\n"
     ]
    }
   ],
   "source": [
    "api_key = os.environ[\"MISTRAL_API_KEY\"]\n",
    "client = MistralClient(api_key=api_key)\n",
    "model = \"mistral-large-latest\"\n",
    "\n",
    "for file in tqdm(all_files):\n",
    "    with open(SOURCE_FOLDER / file, \"r\") as f:\n",
    "        tmp = f.read()\n",
    "        \n",
    "    messages = [\n",
    "        ChatMessage(role=\"user\", content=prompt.format(**{\"file\": tmp}))\n",
    "    ]\n",
    "    chat_response = client.chat(\n",
    "        model=model,\n",
    "        messages=messages,\n",
    "    )\n",
    "    \n",
    "    corrected_file = chat_response.choices[0].message.content\n",
    "    with open(SOURCE_FOLDER / file, \"w\") as f:\n",
    "        f.write(corrected_file)"
   ]
  },
  {
   "cell_type": "code",
   "execution_count": 405,
   "metadata": {},
   "outputs": [
    {
     "name": "stdout",
     "output_type": "stream",
     "text": [
      "Number of files to correct: 1\n",
      "Number of corrected files: 1 representing  100.00% of the total\n"
     ]
    }
   ],
   "source": [
    "clean_and_save_ndjson()"
   ]
  },
  {
   "cell_type": "code",
   "execution_count": null,
   "metadata": {},
   "outputs": [],
   "source": []
  }
 ],
 "metadata": {
  "kernelspec": {
   "display_name": "climateGPT",
   "language": "python",
   "name": "python3"
  },
  "language_info": {
   "codemirror_mode": {
    "name": "ipython",
    "version": 3
   },
   "file_extension": ".py",
   "mimetype": "text/x-python",
   "name": "python",
   "nbconvert_exporter": "python",
   "pygments_lexer": "ipython3",
   "version": "3.11.1"
  }
 },
 "nbformat": 4,
 "nbformat_minor": 2
}
